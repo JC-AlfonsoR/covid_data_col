{
 "cells": [
  {
   "cell_type": "code",
   "execution_count": 266,
   "id": "stuck-short",
   "metadata": {},
   "outputs": [],
   "source": [
    "import numpy as np\n",
    "import matplotlib.pyplot as plt\n",
    "import pandas as pd\n",
    "%matplotlib inline"
   ]
  },
  {
   "cell_type": "code",
   "execution_count": 291,
   "id": "grateful-cambridge",
   "metadata": {},
   "outputs": [
    {
     "name": "stdout",
     "output_type": "stream",
     "text": [
      "<class 'pandas.core.frame.DataFrame'>\n",
      "RangeIndex: 71142 entries, 0 to 71141\n",
      "Data columns (total 17 columns):\n",
      " #   Column                       Non-Null Count  Dtype  \n",
      "---  ------                       --------------  -----  \n",
      " 0   fecha reporte web            71142 non-null  object \n",
      " 1   ID de caso                   71142 non-null  int64  \n",
      " 2   Fecha de notificación        71142 non-null  object \n",
      " 3   Nombre municipio             71142 non-null  object \n",
      " 4   Edad                         71142 non-null  int64  \n",
      " 5   Sexo                         71142 non-null  object \n",
      " 6   Tipo de contagio             71142 non-null  object \n",
      " 7   Ubicación del caso           70836 non-null  object \n",
      " 8   Estado                       70836 non-null  object \n",
      " 9   Código ISO del país          17 non-null     float64\n",
      " 10  Nombre del país              17 non-null     object \n",
      " 11  Recuperado                   70860 non-null  object \n",
      " 12  Fecha de inicio de síntomas  70576 non-null  object \n",
      " 13  Fecha de muerte              1954 non-null   object \n",
      " 14  Fecha de diagnóstico         71134 non-null  object \n",
      " 15  Fecha de recuperación        66287 non-null  object \n",
      " 16  Tipo de recuperación         66287 non-null  object \n",
      "dtypes: float64(1), int64(2), object(14)\n",
      "memory usage: 9.2+ MB\n"
     ]
    },
    {
     "name": "stderr",
     "output_type": "stream",
     "text": [
      "/home/jc/anaconda3/lib/python3.8/site-packages/IPython/core/interactiveshell.py:3165: DtypeWarning: Columns (14) have mixed types.Specify dtype option on import or set low_memory=False.\n",
      "  has_raised = await self.run_ast_nodes(code_ast.body, cell_name,\n"
     ]
    }
   ],
   "source": [
    "df = pd.read_csv('Casos_positivos_de_COVID-19_en_Colombia.csv')\n",
    "drop_columns = [\"Código DIVIPOLA departamento\", \"Nombre departamento\", \"Código DIVIPOLA municipio\",\n",
    "            \"Unidad de medida de edad\", \"Pertenencia étnica\", \"Nombre del grupo étnico\"]\n",
    "df = df.drop(columns=drop_columns)\n",
    "df.info()"
   ]
  },
  {
   "cell_type": "code",
   "execution_count": 292,
   "id": "collect-dylan",
   "metadata": {},
   "outputs": [
    {
     "name": "stdout",
     "output_type": "stream",
     "text": [
      "fecha reporte web \t\t---> f_reporte_web\n",
      "Fecha de notificación \t\t---> f_notificacion\n",
      "Fecha de inicio de síntomas \t\t---> f_ini_sintomas\n",
      "Fecha de muerte \t\t---> f_muerte\n",
      "Fecha de diagnóstico \t\t---> f_diagnostico\n",
      "Fecha de recuperación \t\t---> f_recuperacion\n",
      "\n",
      "\n",
      "<class 'pandas.core.frame.DataFrame'>\n",
      "RangeIndex: 71142 entries, 0 to 71141\n",
      "Data columns (total 17 columns):\n",
      " #   Column                Non-Null Count  Dtype         \n",
      "---  ------                --------------  -----         \n",
      " 0   ID de caso            71142 non-null  int64         \n",
      " 1   Nombre municipio      71142 non-null  object        \n",
      " 2   Edad                  71142 non-null  int64         \n",
      " 3   Sexo                  71142 non-null  object        \n",
      " 4   Tipo de contagio      71142 non-null  object        \n",
      " 5   Ubicación del caso    70836 non-null  object        \n",
      " 6   Estado                70836 non-null  object        \n",
      " 7   Código ISO del país   17 non-null     float64       \n",
      " 8   Nombre del país       17 non-null     object        \n",
      " 9   Recuperado            70860 non-null  object        \n",
      " 10  Tipo de recuperación  66287 non-null  object        \n",
      " 11  f_reporte_web         71142 non-null  datetime64[ns]\n",
      " 12  f_notificacion        71142 non-null  datetime64[ns]\n",
      " 13  f_ini_sintomas        70576 non-null  datetime64[ns]\n",
      " 14  f_muerte              1954 non-null   datetime64[ns]\n",
      " 15  f_diagnostico         71134 non-null  datetime64[ns]\n",
      " 16  f_recuperacion        66287 non-null  datetime64[ns]\n",
      "dtypes: datetime64[ns](6), float64(1), int64(2), object(8)\n",
      "memory usage: 9.2+ MB\n",
      "None\n"
     ]
    }
   ],
   "source": [
    "# Transform dates to datetime objects using the propper format\n",
    "fechas = [\"fecha reporte web\", \"Fecha de notificación\", \"Fecha de inicio de síntomas\", \"Fecha de muerte\", \"Fecha de diagnóstico\", \"Fecha de recuperación\"]\n",
    "f = [\"f_reporte_web\", \"f_notificacion\", \"f_ini_sintomas\", \"f_muerte\", \"f_diagnostico\", \"f_recuperacion\"]\n",
    "\n",
    "for i in range(len(fechas)):\n",
    "    print(fechas[i], \"\\t\\t--->\", f[i])\n",
    "    df[f[i]] = pd.to_datetime( df[fechas[i]], format='%d/%m/%Y %H:%M:%S' )\n",
    "\n",
    "df = df.drop(columns=fechas)\n",
    "print(\"\\n\")\n",
    "print(df.info())"
   ]
  },
  {
   "cell_type": "code",
   "execution_count": 413,
   "id": "chemical-hughes",
   "metadata": {},
   "outputs": [
    {
     "data": {
      "text/html": [
       "<div>\n",
       "<style scoped>\n",
       "    .dataframe tbody tr th:only-of-type {\n",
       "        vertical-align: middle;\n",
       "    }\n",
       "\n",
       "    .dataframe tbody tr th {\n",
       "        vertical-align: top;\n",
       "    }\n",
       "\n",
       "    .dataframe thead th {\n",
       "        text-align: right;\n",
       "    }\n",
       "</style>\n",
       "<table border=\"1\" class=\"dataframe\">\n",
       "  <thead>\n",
       "    <tr style=\"text-align: right;\">\n",
       "      <th></th>\n",
       "      <th>ID de caso</th>\n",
       "      <th>Nombre municipio</th>\n",
       "      <th>Edad</th>\n",
       "      <th>Sexo</th>\n",
       "      <th>Tipo de contagio</th>\n",
       "      <th>Ubicación del caso</th>\n",
       "      <th>Estado</th>\n",
       "      <th>Código ISO del país</th>\n",
       "      <th>Nombre del país</th>\n",
       "      <th>Recuperado</th>\n",
       "      <th>Tipo de recuperación</th>\n",
       "      <th>f_reporte_web</th>\n",
       "      <th>f_notificacion</th>\n",
       "      <th>f_ini_sintomas</th>\n",
       "      <th>f_muerte</th>\n",
       "      <th>f_diagnostico</th>\n",
       "      <th>f_recuperacion</th>\n",
       "    </tr>\n",
       "  </thead>\n",
       "  <tbody>\n",
       "    <tr>\n",
       "      <th>462</th>\n",
       "      <td>136252</td>\n",
       "      <td>TIBANA</td>\n",
       "      <td>37</td>\n",
       "      <td>M</td>\n",
       "      <td>En estudio</td>\n",
       "      <td>Casa</td>\n",
       "      <td>Leve</td>\n",
       "      <td>NaN</td>\n",
       "      <td>NaN</td>\n",
       "      <td>Recuperado</td>\n",
       "      <td>PCR</td>\n",
       "      <td>2020-07-10</td>\n",
       "      <td>2020-06-30</td>\n",
       "      <td>2020-06-26</td>\n",
       "      <td>NaT</td>\n",
       "      <td>2020-07-10</td>\n",
       "      <td>2020-07-21</td>\n",
       "    </tr>\n",
       "    <tr>\n",
       "      <th>541</th>\n",
       "      <td>175285</td>\n",
       "      <td>TIBANA</td>\n",
       "      <td>57</td>\n",
       "      <td>F</td>\n",
       "      <td>Relacionado</td>\n",
       "      <td>Casa</td>\n",
       "      <td>Leve</td>\n",
       "      <td>NaN</td>\n",
       "      <td>NaN</td>\n",
       "      <td>Recuperado</td>\n",
       "      <td>Tiempo</td>\n",
       "      <td>2020-07-17</td>\n",
       "      <td>2020-07-11</td>\n",
       "      <td>2020-07-11</td>\n",
       "      <td>NaT</td>\n",
       "      <td>2020-07-16</td>\n",
       "      <td>2020-08-09</td>\n",
       "    </tr>\n",
       "    <tr>\n",
       "      <th>543</th>\n",
       "      <td>175303</td>\n",
       "      <td>TIBANA</td>\n",
       "      <td>40</td>\n",
       "      <td>M</td>\n",
       "      <td>Relacionado</td>\n",
       "      <td>Casa</td>\n",
       "      <td>Leve</td>\n",
       "      <td>NaN</td>\n",
       "      <td>NaN</td>\n",
       "      <td>Recuperado</td>\n",
       "      <td>Tiempo</td>\n",
       "      <td>2020-07-17</td>\n",
       "      <td>2020-07-11</td>\n",
       "      <td>2020-07-11</td>\n",
       "      <td>NaT</td>\n",
       "      <td>2020-07-16</td>\n",
       "      <td>2020-08-09</td>\n",
       "    </tr>\n",
       "    <tr>\n",
       "      <th>544</th>\n",
       "      <td>175304</td>\n",
       "      <td>TIBANA</td>\n",
       "      <td>48</td>\n",
       "      <td>M</td>\n",
       "      <td>Relacionado</td>\n",
       "      <td>Casa</td>\n",
       "      <td>Leve</td>\n",
       "      <td>NaN</td>\n",
       "      <td>NaN</td>\n",
       "      <td>Recuperado</td>\n",
       "      <td>Tiempo</td>\n",
       "      <td>2020-07-17</td>\n",
       "      <td>2020-07-11</td>\n",
       "      <td>2020-07-11</td>\n",
       "      <td>NaT</td>\n",
       "      <td>2020-07-16</td>\n",
       "      <td>2020-08-09</td>\n",
       "    </tr>\n",
       "    <tr>\n",
       "      <th>545</th>\n",
       "      <td>175308</td>\n",
       "      <td>TIBANA</td>\n",
       "      <td>3</td>\n",
       "      <td>M</td>\n",
       "      <td>Relacionado</td>\n",
       "      <td>Casa</td>\n",
       "      <td>Leve</td>\n",
       "      <td>NaN</td>\n",
       "      <td>NaN</td>\n",
       "      <td>Recuperado</td>\n",
       "      <td>Tiempo</td>\n",
       "      <td>2020-07-17</td>\n",
       "      <td>2020-07-11</td>\n",
       "      <td>2020-07-11</td>\n",
       "      <td>NaT</td>\n",
       "      <td>2020-07-16</td>\n",
       "      <td>2020-08-09</td>\n",
       "    </tr>\n",
       "  </tbody>\n",
       "</table>\n",
       "</div>"
      ],
      "text/plain": [
       "     ID de caso Nombre municipio  Edad Sexo Tipo de contagio  \\\n",
       "462      136252           TIBANA    37    M       En estudio   \n",
       "541      175285           TIBANA    57    F      Relacionado   \n",
       "543      175303           TIBANA    40    M      Relacionado   \n",
       "544      175304           TIBANA    48    M      Relacionado   \n",
       "545      175308           TIBANA     3    M      Relacionado   \n",
       "\n",
       "    Ubicación del caso Estado  Código ISO del país Nombre del país  \\\n",
       "462               Casa   Leve                  NaN             NaN   \n",
       "541               Casa   Leve                  NaN             NaN   \n",
       "543               Casa   Leve                  NaN             NaN   \n",
       "544               Casa   Leve                  NaN             NaN   \n",
       "545               Casa   Leve                  NaN             NaN   \n",
       "\n",
       "     Recuperado Tipo de recuperación f_reporte_web f_notificacion  \\\n",
       "462  Recuperado                  PCR    2020-07-10     2020-06-30   \n",
       "541  Recuperado               Tiempo    2020-07-17     2020-07-11   \n",
       "543  Recuperado               Tiempo    2020-07-17     2020-07-11   \n",
       "544  Recuperado               Tiempo    2020-07-17     2020-07-11   \n",
       "545  Recuperado               Tiempo    2020-07-17     2020-07-11   \n",
       "\n",
       "    f_ini_sintomas f_muerte f_diagnostico f_recuperacion  \n",
       "462     2020-06-26      NaT    2020-07-10     2020-07-21  \n",
       "541     2020-07-11      NaT    2020-07-16     2020-08-09  \n",
       "543     2020-07-11      NaT    2020-07-16     2020-08-09  \n",
       "544     2020-07-11      NaT    2020-07-16     2020-08-09  \n",
       "545     2020-07-11      NaT    2020-07-16     2020-08-09  "
      ]
     },
     "execution_count": 413,
     "metadata": {},
     "output_type": "execute_result"
    }
   ],
   "source": [
    "tibana = df[df['Nombre municipio'] == \"TIBANA\"]\n",
    "tibana.head()"
   ]
  },
  {
   "cell_type": "code",
   "execution_count": 414,
   "id": "genetic-rating",
   "metadata": {},
   "outputs": [
    {
     "name": "stdout",
     "output_type": "stream",
     "text": [
      "Recuperado    146\n",
      "Activo         13\n",
      "Fallecido       2\n",
      "Name: Recuperado, dtype: int64\n",
      "1.0    146\n",
      "0.0     15\n",
      "Name: Recuperado, dtype: int64\n"
     ]
    },
    {
     "data": {
      "image/png": "[encoded data removed]",
      "text/plain": [
       "<Figure size 432x288 with 1 Axes>"
      ]
     },
     "metadata": {
      "needs_background": "light"
     },
     "output_type": "display_data"
    }
   ],
   "source": [
    "print(tibana['Recuperado'].value_counts())\n",
    "tibana = tibana.replace({'Recuperado':1, 'Activo':0, 'Fallecido':0})\n",
    "print(tibana['Recuperado'].value_counts())\n",
    "\n",
    "recuperados = tibana.pivot_table(index=\"f_recuperacion\", values=\"Recuperado\",aggfunc=np.count_nonzero)\n",
    "recuperados = recuperados.sort_index(ascending=True)\n",
    "recuperados[\"r_acumulado\"] = recuperados.cumsum()\n",
    "recuperados.plot()\n",
    "plt.grid()"
   ]
  },
  {
   "cell_type": "code",
   "execution_count": 415,
   "id": "normal-chemistry",
   "metadata": {},
   "outputs": [
    {
     "data": {
      "image/png": "[encoded data removed]",
      "text/plain": [
       "<Figure size 432x288 with 1 Axes>"
      ]
     },
     "metadata": {
      "needs_background": "light"
     },
     "output_type": "display_data"
    }
   ],
   "source": [
    "nuevosC = tibana.pivot_table(index=\"f_ini_sintomas\", values=\"ID de caso\",aggfunc=np.count_nonzero)\n",
    "nuevosC = nuevosC.sort_index(ascending=True)\n",
    "nuevosC[\"n_acumulado\"] = nuevosC.cumsum()\n",
    "nuevosC = nuevosC.rename(columns={\"ID de caso\":\"n_casos\"})\n",
    "nuevosC.plot()\n",
    "plt.grid()"
   ]
  },
  {
   "cell_type": "code",
   "execution_count": 416,
   "id": "established-angola",
   "metadata": {},
   "outputs": [
    {
     "name": "stdout",
     "output_type": "stream",
     "text": [
      "2020-06-26 00:00:00\n",
      "2021-06-05 00:00:00\n"
     ]
    }
   ],
   "source": [
    "d_min = min([nuevosC.index.min(), recuperados.index.min()])\n",
    "d_max = max([nuevosC.index.max(), recuperados.index.max()])\n",
    "t_index = pd.date_range(start=d_min, end=d_max, freq='D')\n",
    "print(d_min, d_max, sep=\"\\n\")"
   ]
  },
  {
   "cell_type": "code",
   "execution_count": 417,
   "id": "forced-mercy",
   "metadata": {},
   "outputs": [
    {
     "data": {
      "text/html": [
       "<div>\n",
       "<style scoped>\n",
       "    .dataframe tbody tr th:only-of-type {\n",
       "        vertical-align: middle;\n",
       "    }\n",
       "\n",
       "    .dataframe tbody tr th {\n",
       "        vertical-align: top;\n",
       "    }\n",
       "\n",
       "    .dataframe thead th {\n",
       "        text-align: right;\n",
       "    }\n",
       "</style>\n",
       "<table border=\"1\" class=\"dataframe\">\n",
       "  <thead>\n",
       "    <tr style=\"text-align: right;\">\n",
       "      <th></th>\n",
       "      <th>n_casos</th>\n",
       "      <th>n_acumulado</th>\n",
       "      <th>Recuperado</th>\n",
       "      <th>r_acumulado</th>\n",
       "      <th>activos</th>\n",
       "    </tr>\n",
       "  </thead>\n",
       "  <tbody>\n",
       "    <tr>\n",
       "      <th>2020-06-26</th>\n",
       "      <td>2.0</td>\n",
       "      <td>2.0</td>\n",
       "      <td>0.0</td>\n",
       "      <td>0.0</td>\n",
       "      <td>2.0</td>\n",
       "    </tr>\n",
       "    <tr>\n",
       "      <th>2020-06-27</th>\n",
       "      <td>2.0</td>\n",
       "      <td>2.0</td>\n",
       "      <td>0.0</td>\n",
       "      <td>0.0</td>\n",
       "      <td>2.0</td>\n",
       "    </tr>\n",
       "    <tr>\n",
       "      <th>2020-06-28</th>\n",
       "      <td>2.0</td>\n",
       "      <td>2.0</td>\n",
       "      <td>0.0</td>\n",
       "      <td>0.0</td>\n",
       "      <td>2.0</td>\n",
       "    </tr>\n",
       "    <tr>\n",
       "      <th>2020-06-29</th>\n",
       "      <td>2.0</td>\n",
       "      <td>2.0</td>\n",
       "      <td>0.0</td>\n",
       "      <td>0.0</td>\n",
       "      <td>2.0</td>\n",
       "    </tr>\n",
       "    <tr>\n",
       "      <th>2020-06-30</th>\n",
       "      <td>2.0</td>\n",
       "      <td>2.0</td>\n",
       "      <td>0.0</td>\n",
       "      <td>0.0</td>\n",
       "      <td>2.0</td>\n",
       "    </tr>\n",
       "  </tbody>\n",
       "</table>\n",
       "</div>"
      ],
      "text/plain": [
       "            n_casos  n_acumulado  Recuperado  r_acumulado  activos\n",
       "2020-06-26      2.0          2.0         0.0          0.0      2.0\n",
       "2020-06-27      2.0          2.0         0.0          0.0      2.0\n",
       "2020-06-28      2.0          2.0         0.0          0.0      2.0\n",
       "2020-06-29      2.0          2.0         0.0          0.0      2.0\n",
       "2020-06-30      2.0          2.0         0.0          0.0      2.0"
      ]
     },
     "execution_count": 417,
     "metadata": {},
     "output_type": "execute_result"
    }
   ],
   "source": [
    "nuevosC_r = nuevosC.reindex(t_index).pad().fillna(0)\n",
    "recuperados_r = recuperados.reindex(t_index).pad().fillna(0)\n",
    "casos_n_r = pd.concat([nuevosC_r, recuperados_r], axis=1)\n",
    "casos_n_r['activos'] = casos_n_r['n_acumulado'] - casos_n_r['r_acumulado'] \n",
    "casos_n_r.head()"
   ]
  },
  {
   "cell_type": "code",
   "execution_count": 435,
   "id": "authentic-alias",
   "metadata": {},
   "outputs": [
    {
     "name": "stdout",
     "output_type": "stream",
     "text": [
      "r_acumulado    146.0\n",
      "activos         16.0\n",
      "Name: 2021-06-05 00:00:00, dtype: float64\n"
     ]
    },
    {
     "data": {
      "image/png": "[encoded data removed]",
      "text/plain": [
       "<Figure size 432x288 with 1 Axes>"
      ]
     },
     "metadata": {
      "needs_background": "light"
     },
     "output_type": "display_data"
    }
   ],
   "source": [
    "casos_n_r.loc[casos_n_r.index >= \"2020-10-01\",\"activos\"].plot(label='Casos Activos -Tibaná')\n",
    "plt.legend()\n",
    "plt.grid()\n",
    "plt.savefig('casos_activos_Tibana.png')\n",
    "print(casos_n_r.iloc[-1,[-2,-1]])"
   ]
  },
  {
   "cell_type": "markdown",
   "id": "authentic-pointer",
   "metadata": {},
   "source": [
    "# Carpentry"
   ]
  },
  {
   "cell_type": "code",
   "execution_count": 94,
   "id": "handmade-holder",
   "metadata": {},
   "outputs": [
    {
     "data": {
      "text/plain": [
       "Nombre municipio\n",
       "BOYACA          65\n",
       "CIENEGA         39\n",
       "JENESANO        90\n",
       "NUEVO COLON     49\n",
       "RAMIRIQUI      339\n",
       "RONDON           4\n",
       "TIBANA         162\n",
       "TURMEQUE       116\n",
       "UMBITA          79\n",
       "VIRACACHA       26\n",
       "Name: ID de caso, dtype: int64"
      ]
     },
     "execution_count": 94,
     "metadata": {},
     "output_type": "execute_result"
    }
   ],
   "source": [
    "towns = [\"BOYACA\",\"CIENEGA\", \"JENESANO\", \"NUEVO COLON\", \"RAMIRIQUI\", \"TIBANA\", \"RONDON\", \"TURMEQUE\", \"UMBITA\", \"VIRACACHA\"]\n",
    "marquez = df[ df[\"Nombre municipio\"].isin(towns) ]\n",
    "marquez.groupby(\"Nombre municipio\")[\"ID de caso\"].agg(np.count_nonzero)"
   ]
  }
 ],
 "metadata": {
  "kernelspec": {
   "display_name": "Python 3",
   "language": "python",
   "name": "python3"
  },
  "language_info": {
   "codemirror_mode": {
    "name": "ipython",
    "version": 3
   },
   "file_extension": ".py",
   "mimetype": "text/x-python",
   "name": "python",
   "nbconvert_exporter": "python",
   "pygments_lexer": "ipython3",
   "version": "3.8.5"
  }
 },
 "nbformat": 4,
 "nbformat_minor": 5
}
