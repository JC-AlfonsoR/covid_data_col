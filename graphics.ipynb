{
 "cells": [
  {
   "cell_type": "code",
   "execution_count": 1,
   "id": "heard-currency",
   "metadata": {},
   "outputs": [
    {
     "data": {
      "text/plain": [
       "'LC_CTYPE=en_US.UTF-8;LC_NUMERIC=es_CO.UTF-8;LC_TIME=es_CO.UTF-8;LC_COLLATE=en_US.UTF-8;LC_MONETARY=es_CO.UTF-8;LC_MESSAGES=en_US.UTF-8;LC_PAPER=es_CO.UTF-8;LC_NAME=es_CO.UTF-8;LC_ADDRESS=es_CO.UTF-8;LC_TELEPHONE=es_CO.UTF-8;LC_MEASUREMENT=es_CO.UTF-8;LC_IDENTIFICATION=es_CO.UTF-8'"
      ]
     },
     "execution_count": 1,
     "metadata": {},
     "output_type": "execute_result"
    }
   ],
   "source": [
    "import numpy as np\n",
    "import pandas as pd\n",
    "from sodapy import Socrata\n",
    "from datetime import datetime\n",
    "\n",
    "import matplotlib.pyplot as plt\n",
    "import seaborn as sns\n",
    "sns.set_style()\n",
    "%matplotlib inline\n",
    "\n",
    "import locale\n",
    "locale.setlocale(locale.LC_ALL, '')"
   ]
  },
  {
   "cell_type": "code",
   "execution_count": 2,
   "id": "written-indie",
   "metadata": {},
   "outputs": [
    {
     "name": "stderr",
     "output_type": "stream",
     "text": [
      "WARNING:root:Requests made without an app_token will be subject to strict throttling limits.\n"
     ]
    },
    {
     "name": "stdout",
     "output_type": "stream",
     "text": [
      "Data download date & time \n",
      " 2021-06-11 12:15:49.503853 \n",
      "\n",
      "\n",
      "<class 'pandas.core.frame.DataFrame'>\n",
      "RangeIndex: 73800 entries, 0 to 73799\n",
      "Data columns (total 23 columns):\n",
      " #   Column                 Non-Null Count  Dtype \n",
      "---  ------                 --------------  ----- \n",
      " 0   fecha_reporte_web      73800 non-null  object\n",
      " 1   id_de_caso             73800 non-null  object\n",
      " 2   fecha_de_notificaci_n  73800 non-null  object\n",
      " 3   departamento           73800 non-null  object\n",
      " 4   departamento_nom       73800 non-null  object\n",
      " 5   ciudad_municipio       73800 non-null  object\n",
      " 6   ciudad_municipio_nom   73800 non-null  object\n",
      " 7   edad                   73800 non-null  object\n",
      " 8   unidad_medida          73800 non-null  object\n",
      " 9   sexo                   73800 non-null  object\n",
      " 10  fuente_tipo_contagio   73617 non-null  object\n",
      " 11  ubicacion              73800 non-null  object\n",
      " 12  estado                 73800 non-null  object\n",
      " 13  recuperado             73800 non-null  object\n",
      " 14  fecha_inicio_sintomas  73234 non-null  object\n",
      " 15  fecha_diagnostico      73792 non-null  object\n",
      " 16  fecha_recuperado       69012 non-null  object\n",
      " 17  tipo_recuperacion      69012 non-null  object\n",
      " 18  per_etn_               69425 non-null  object\n",
      " 19  pais_viajo_1_cod       17 non-null     object\n",
      " 20  pais_viajo_1_nom       17 non-null     object\n",
      " 21  fecha_muerte           2035 non-null   object\n",
      " 22  nom_grupo_             202 non-null    object\n",
      "dtypes: object(23)\n",
      "memory usage: 13.0+ MB\n"
     ]
    }
   ],
   "source": [
    "# Download Data\n",
    "\n",
    "# Code Snippet taken from\n",
    "# https://dev.socrata.com/foundry/www.datos.gov.co/gt2j-8ykr\n",
    "#\n",
    "# Useful documentation\n",
    "# https://dev.socrata.com/docs/filtering.html\n",
    "\n",
    "# Unauthenticated client only works with public data sets. Note 'None'\n",
    "# in place of application token, and no username or password:\n",
    "client = Socrata(\"www.datos.gov.co\", None)\n",
    "\n",
    "# First 2000 results, returned as JSON from API / converted to Python list of\n",
    "# dictionaries by sodapy.\n",
    "q1 = \"departamento=15\"\n",
    "results = client.get(\"gt2j-8ykr\", where=q1, limit=1000000)\n",
    "download_date = datetime.now() # Record date & time of data donwnload\n",
    "\n",
    "\n",
    "# Convert to pandas DataFrame\n",
    "results_df = pd.DataFrame.from_records(results)\n",
    "\n",
    "print(\"Data download date & time \\n\", download_date,\"\\n\"*2)\n",
    "results_df.info()"
   ]
  },
  {
   "cell_type": "code",
   "execution_count": 3,
   "id": "disciplinary-triumph",
   "metadata": {},
   "outputs": [
    {
     "name": "stdout",
     "output_type": "stream",
     "text": [
      "\n",
      "*** Formating Dates\n",
      "fecha_reporte_web \t\t---> f_reporte_web\n",
      "fecha_de_notificaci_n \t\t---> f_notificacion\n",
      "fecha_inicio_sintomas \t\t---> f_ini_sintomas\n",
      "fecha_muerte \t\t---> f_muerte\n",
      "fecha_diagnostico \t\t---> f_diagnostico\n",
      "fecha_recuperado \t\t---> f_recuperacion\n",
      "\n",
      "*** Number of Nans in 'recuperado' column =  292\n",
      "-->Correction of 'fallecido' value in 'recuperado' column for  2035 rows\n",
      "After correction there are still  1 N/A observations\n",
      "\n",
      "      id_de_caso ciudad_municipio_nom f_muerte recuperado\n",
      "38920    2012548             LA UVITA      NaT        N/A\n",
      "\n",
      "\n",
      "<class 'pandas.core.frame.DataFrame'>\n",
      "RangeIndex: 73800 entries, 0 to 73799\n",
      "Data columns (total 9 columns):\n",
      " #   Column                Non-Null Count  Dtype         \n",
      "---  ------                --------------  -----         \n",
      " 0   id_de_caso            73800 non-null  object        \n",
      " 1   ciudad_municipio_nom  73800 non-null  object        \n",
      " 2   recuperado            73800 non-null  object        \n",
      " 3   f_reporte_web         73800 non-null  datetime64[ns]\n",
      " 4   f_notificacion        73800 non-null  datetime64[ns]\n",
      " 5   f_ini_sintomas        73234 non-null  datetime64[ns]\n",
      " 6   f_muerte              2035 non-null   datetime64[ns]\n",
      " 7   f_diagnostico         73792 non-null  datetime64[ns]\n",
      " 8   f_recuperacion        69012 non-null  datetime64[ns]\n",
      "dtypes: datetime64[ns](6), object(3)\n",
      "memory usage: 5.1+ MB\n",
      "None\n",
      "\n",
      "*** Most recent reported dates\n",
      " f_reporte_web    2021-06-10\n",
      "f_notificacion   2021-06-09\n",
      "f_ini_sintomas   2021-06-08\n",
      "f_muerte         2021-06-10\n",
      "f_diagnostico    2021-06-09\n",
      "f_recuperacion   2021-06-10\n",
      "dtype: datetime64[ns]\n"
     ]
    }
   ],
   "source": [
    "# Load Data\n",
    "df = results_df.copy()\n",
    "#del results_df\n",
    "\n",
    "# Drop columns\n",
    "drop_columns = [\"departamento\", \n",
    "                \"departamento_nom\", \n",
    "                \"ciudad_municipio\",\n",
    "                \"unidad_medida\", \n",
    "                \"per_etn_\", \n",
    "                \"nom_grupo_\",\n",
    "                \"pais_viajo_1_cod\",\n",
    "                \"pais_viajo_1_nom\",\n",
    "                \"edad\",\n",
    "                \"sexo\",\n",
    "                \"fuente_tipo_contagio\",\n",
    "                \"ubicacion\",\n",
    "                \"estado\",\n",
    "                \"tipo_recuperacion\"\n",
    "               ]\n",
    "df = df.drop(columns=drop_columns)\n",
    "\n",
    "# Transform dates to datetime objects using the propper format\n",
    "dates = [\"fecha_reporte_web\", \n",
    "         \"fecha_de_notificaci_n\", \n",
    "         \"fecha_inicio_sintomas\", \n",
    "         \"fecha_muerte\", \n",
    "         \"fecha_diagnostico\", \n",
    "         \"fecha_recuperado\"\n",
    "        ]\n",
    "formated_dates = [\"f_reporte_web\", \n",
    "                  \"f_notificacion\", \n",
    "                  \"f_ini_sintomas\", \n",
    "                  \"f_muerte\", \n",
    "                  \"f_diagnostico\", \n",
    "                  \"f_recuperacion\"\n",
    "                 ]\n",
    "print(\"\\n*** Formating Dates\")\n",
    "for i in range(len(dates)):\n",
    "    print(dates[i], \"\\t\\t--->\", formated_dates[i])\n",
    "    df[formated_dates[i]] = pd.to_datetime( df[dates[i]], format='%d/%m/%Y %H:%M:%S' )\n",
    "\n",
    "df = df.drop(columns=dates)\n",
    "\n",
    "\n",
    "# \"Estado\" column has NaN values for some cases with a valid pass-away date\n",
    "# Correct those NaN with \"Fallecido\"\n",
    "number_of_nans = np.sum(df[\"recuperado\"]==\"N/A\")\n",
    "print(\"\\n*** Number of Nans in 'recuperado' column = \", number_of_nans)\n",
    "if number_of_nans != 0:\n",
    "    row_indexer = ~df[\"f_muerte\"].isna() # rows with valid pass-away dates\n",
    "    df.loc[ (row_indexer) , \"recuperado\" ] = \"Fallecido\" # Fix value for \"Recuperado\" column\n",
    "    print(\"-->Correction of 'fallecido' value in 'recuperado' column for \", np.sum(row_indexer), \"rows\")\n",
    "    \n",
    "    number_of_nans = np.sum(df[\"recuperado\"]==\"N/A\")\n",
    "    print(\"After correction there are still \", number_of_nans, \"N/A observations\\n\")\n",
    "    print(df.loc[df[\"recuperado\"]==\"N/A\",[\"id_de_caso\",\"ciudad_municipio_nom\",\"f_muerte\",\"recuperado\"]])\n",
    "    \n",
    "else:\n",
    "    print(\"--> No Correction required\")\n",
    "\n",
    "print(\"\\n\")\n",
    "print(df.info())\n",
    "\n",
    "print(\"\\n*** Most recent reported dates\\n\", df.loc[:,formated_dates].max())\n",
    "df = df.drop(columns=[\"f_reporte_web\",\"f_notificacion\"])"
   ]
  },
  {
   "cell_type": "code",
   "execution_count": 4,
   "id": "developed-county",
   "metadata": {},
   "outputs": [
    {
     "data": {
      "text/html": [
       "<div>\n",
       "<style scoped>\n",
       "    .dataframe tbody tr th:only-of-type {\n",
       "        vertical-align: middle;\n",
       "    }\n",
       "\n",
       "    .dataframe tbody tr th {\n",
       "        vertical-align: top;\n",
       "    }\n",
       "\n",
       "    .dataframe thead th {\n",
       "        text-align: right;\n",
       "    }\n",
       "</style>\n",
       "<table border=\"1\" class=\"dataframe\">\n",
       "  <thead>\n",
       "    <tr style=\"text-align: right;\">\n",
       "      <th></th>\n",
       "      <th>id_de_caso</th>\n",
       "      <th>ciudad_municipio_nom</th>\n",
       "      <th>recuperado</th>\n",
       "      <th>f_ini_sintomas</th>\n",
       "      <th>f_muerte</th>\n",
       "      <th>f_diagnostico</th>\n",
       "      <th>f_recuperacion</th>\n",
       "    </tr>\n",
       "  </thead>\n",
       "  <tbody>\n",
       "    <tr>\n",
       "      <th>38920</th>\n",
       "      <td>2012548</td>\n",
       "      <td>LA UVITA</td>\n",
       "      <td>N/A</td>\n",
       "      <td>2021-01-07</td>\n",
       "      <td>NaT</td>\n",
       "      <td>2021-01-22</td>\n",
       "      <td>NaT</td>\n",
       "    </tr>\n",
       "  </tbody>\n",
       "</table>\n",
       "</div>"
      ],
      "text/plain": [
       "      id_de_caso ciudad_municipio_nom recuperado f_ini_sintomas f_muerte  \\\n",
       "38920    2012548             LA UVITA        N/A     2021-01-07      NaT   \n",
       "\n",
       "      f_diagnostico f_recuperacion  \n",
       "38920    2021-01-22            NaT  "
      ]
     },
     "execution_count": 4,
     "metadata": {},
     "output_type": "execute_result"
    }
   ],
   "source": [
    "# Print Observations with NaN in \"Recuperado\"\n",
    "df[df[\"recuperado\"]==\"N/A\"]"
   ]
  },
  {
   "cell_type": "markdown",
   "id": "trained-funeral",
   "metadata": {},
   "source": [
    "## Resumen de casos por municipio"
   ]
  },
  {
   "cell_type": "code",
   "execution_count": 76,
   "id": "unlike-disco",
   "metadata": {},
   "outputs": [],
   "source": [
    "resumen.reset_index()[\"ciudad_municipio_nom\"].to_csv(\"nombres.csv\")"
   ]
  },
  {
   "cell_type": "code",
   "execution_count": 5,
   "id": "caring-possibility",
   "metadata": {},
   "outputs": [
    {
     "data": {
      "text/html": [
       "<div>\n",
       "<style scoped>\n",
       "    .dataframe tbody tr th:only-of-type {\n",
       "        vertical-align: middle;\n",
       "    }\n",
       "\n",
       "    .dataframe tbody tr th {\n",
       "        vertical-align: top;\n",
       "    }\n",
       "\n",
       "    .dataframe thead th {\n",
       "        text-align: right;\n",
       "    }\n",
       "</style>\n",
       "<table border=\"1\" class=\"dataframe\">\n",
       "  <thead>\n",
       "    <tr style=\"text-align: right;\">\n",
       "      <th>recuperado</th>\n",
       "      <th>Activo</th>\n",
       "      <th>Fallecido</th>\n",
       "      <th>N/A</th>\n",
       "      <th>Recuperado</th>\n",
       "    </tr>\n",
       "    <tr>\n",
       "      <th>ciudad_municipio_nom</th>\n",
       "      <th></th>\n",
       "      <th></th>\n",
       "      <th></th>\n",
       "      <th></th>\n",
       "    </tr>\n",
       "  </thead>\n",
       "  <tbody>\n",
       "    <tr>\n",
       "      <th>TUNJA</th>\n",
       "      <td>868</td>\n",
       "      <td>327</td>\n",
       "      <td>0</td>\n",
       "      <td>19382</td>\n",
       "    </tr>\n",
       "    <tr>\n",
       "      <th>DUITAMA</th>\n",
       "      <td>465</td>\n",
       "      <td>362</td>\n",
       "      <td>0</td>\n",
       "      <td>12256</td>\n",
       "    </tr>\n",
       "    <tr>\n",
       "      <th>SOGAMOSO</th>\n",
       "      <td>344</td>\n",
       "      <td>415</td>\n",
       "      <td>0</td>\n",
       "      <td>12487</td>\n",
       "    </tr>\n",
       "    <tr>\n",
       "      <th>CHIQUINQUIRA</th>\n",
       "      <td>339</td>\n",
       "      <td>142</td>\n",
       "      <td>0</td>\n",
       "      <td>3918</td>\n",
       "    </tr>\n",
       "    <tr>\n",
       "      <th>PUERTO BOYACA</th>\n",
       "      <td>58</td>\n",
       "      <td>92</td>\n",
       "      <td>0</td>\n",
       "      <td>2546</td>\n",
       "    </tr>\n",
       "    <tr>\n",
       "      <th>VILLA DE LEYVA</th>\n",
       "      <td>57</td>\n",
       "      <td>33</td>\n",
       "      <td>0</td>\n",
       "      <td>635</td>\n",
       "    </tr>\n",
       "    <tr>\n",
       "      <th>PAIPA</th>\n",
       "      <td>51</td>\n",
       "      <td>70</td>\n",
       "      <td>0</td>\n",
       "      <td>2114</td>\n",
       "    </tr>\n",
       "    <tr>\n",
       "      <th>SAMACA</th>\n",
       "      <td>42</td>\n",
       "      <td>30</td>\n",
       "      <td>0</td>\n",
       "      <td>1140</td>\n",
       "    </tr>\n",
       "    <tr>\n",
       "      <th>GARAGOA</th>\n",
       "      <td>33</td>\n",
       "      <td>35</td>\n",
       "      <td>0</td>\n",
       "      <td>861</td>\n",
       "    </tr>\n",
       "    <tr>\n",
       "      <th>SOATA</th>\n",
       "      <td>28</td>\n",
       "      <td>13</td>\n",
       "      <td>0</td>\n",
       "      <td>599</td>\n",
       "    </tr>\n",
       "    <tr>\n",
       "      <th>MONIQUIRA</th>\n",
       "      <td>28</td>\n",
       "      <td>62</td>\n",
       "      <td>0</td>\n",
       "      <td>1328</td>\n",
       "    </tr>\n",
       "    <tr>\n",
       "      <th>NOBSA</th>\n",
       "      <td>28</td>\n",
       "      <td>12</td>\n",
       "      <td>0</td>\n",
       "      <td>922</td>\n",
       "    </tr>\n",
       "    <tr>\n",
       "      <th>MIRAFLORES</th>\n",
       "      <td>26</td>\n",
       "      <td>10</td>\n",
       "      <td>0</td>\n",
       "      <td>190</td>\n",
       "    </tr>\n",
       "    <tr>\n",
       "      <th>TUTA</th>\n",
       "      <td>21</td>\n",
       "      <td>6</td>\n",
       "      <td>0</td>\n",
       "      <td>194</td>\n",
       "    </tr>\n",
       "    <tr>\n",
       "      <th>SOCOTA</th>\n",
       "      <td>14</td>\n",
       "      <td>0</td>\n",
       "      <td>0</td>\n",
       "      <td>86</td>\n",
       "    </tr>\n",
       "    <tr>\n",
       "      <th>OTANCHE</th>\n",
       "      <td>13</td>\n",
       "      <td>6</td>\n",
       "      <td>0</td>\n",
       "      <td>98</td>\n",
       "    </tr>\n",
       "    <tr>\n",
       "      <th>ARCABUCO</th>\n",
       "      <td>12</td>\n",
       "      <td>5</td>\n",
       "      <td>0</td>\n",
       "      <td>122</td>\n",
       "    </tr>\n",
       "    <tr>\n",
       "      <th>MUZO</th>\n",
       "      <td>12</td>\n",
       "      <td>11</td>\n",
       "      <td>0</td>\n",
       "      <td>285</td>\n",
       "    </tr>\n",
       "    <tr>\n",
       "      <th>VENTAQUEMADA</th>\n",
       "      <td>12</td>\n",
       "      <td>13</td>\n",
       "      <td>0</td>\n",
       "      <td>176</td>\n",
       "    </tr>\n",
       "    <tr>\n",
       "      <th>COVARACHIA</th>\n",
       "      <td>11</td>\n",
       "      <td>3</td>\n",
       "      <td>0</td>\n",
       "      <td>58</td>\n",
       "    </tr>\n",
       "  </tbody>\n",
       "</table>\n",
       "</div>"
      ],
      "text/plain": [
       "recuperado            Activo  Fallecido  N/A  Recuperado\n",
       "ciudad_municipio_nom                                    \n",
       "TUNJA                    868        327    0       19382\n",
       "DUITAMA                  465        362    0       12256\n",
       "SOGAMOSO                 344        415    0       12487\n",
       "CHIQUINQUIRA             339        142    0        3918\n",
       "PUERTO BOYACA             58         92    0        2546\n",
       "VILLA DE LEYVA            57         33    0         635\n",
       "PAIPA                     51         70    0        2114\n",
       "SAMACA                    42         30    0        1140\n",
       "GARAGOA                   33         35    0         861\n",
       "SOATA                     28         13    0         599\n",
       "MONIQUIRA                 28         62    0        1328\n",
       "NOBSA                     28         12    0         922\n",
       "MIRAFLORES                26         10    0         190\n",
       "TUTA                      21          6    0         194\n",
       "SOCOTA                    14          0    0          86\n",
       "OTANCHE                   13          6    0          98\n",
       "ARCABUCO                  12          5    0         122\n",
       "MUZO                      12         11    0         285\n",
       "VENTAQUEMADA              12         13    0         176\n",
       "COVARACHIA                11          3    0          58"
      ]
     },
     "execution_count": 5,
     "metadata": {},
     "output_type": "execute_result"
    }
   ],
   "source": [
    "resumen = df.pivot_table(index=\"ciudad_municipio_nom\", columns=\"recuperado\", values=\"id_de_caso\", aggfunc=np.count_nonzero).fillna(0)\n",
    "resumen = resumen.sort_values(\"Activo\", ascending=False)\n",
    "#resumen[\"T\"] = resumen.sum(axis=1) # Compute total observations to compare with number of \"ID de caso\"\n",
    "resumen.astype(int).head(20)\n",
    "\n",
    "# count \"ID de caso\" to compare with same calculation from the \"Recuperado Column\"\n",
    "#df.groupby(\"Nombre municipio\")[\"ID de caso\"].agg(np.count_nonzero).sort_values(ascending=False)"
   ]
  },
  {
   "cell_type": "code",
   "execution_count": 69,
   "id": "downtown-stationery",
   "metadata": {},
   "outputs": [],
   "source": [
    "Marquez = {\"name\":\"Provincia de Marquez\", \n",
    "           \"towns\":[\"BOYACA\", \"CIENEGA\",\"JENESANO\",\"NUEVO COLON\",\n",
    "                  \"RAMIRIQUI\", \"RONDON\", \"TIBANA\", \"TURMEQUE\",\n",
    "                  \"UMBITA\", \"VIRACACHA\"],\n",
    "           \"names_to_show\": [\"Boyacá\", \"Ciénega\",\"Jenesano\",\"Nuevo Colón\",\n",
    "                  \"Ramiriquí\", \"Rondón\", \"Tibaná\", \"Turmeque\",\n",
    "                  \"Úmbita\", \"Viracachá\"]\n",
    "          }\n",
    "\n",
    "Centro = [\"TUNJA\", \"COMBITA\", \"CUCAITA\", \"CHIQUIZA\", \"CHIVATA\",\n",
    "         \"MOTAVITA\", \"OICATA\", \"SAMACA\", \"SIACHOQUE\", \"SORA\",\n",
    "         \"SORACA\", \"SOTAQUIRA\", \"TOCA\", \"TUTA\", \"VENTAQUEMADA\"]\n",
    "\n",
    "Centro_sin_Tunja = [\"COMBITA\", \"CUCAITA\", \"CHIQUIZA\", \"CHIVATA\",\n",
    "         \"MOTAVITA\", \"OICATA\", \"SAMACA\", \"SIACHOQUE\", \"SORA\",\n",
    "         \"SORACA\", \"SOTAQUIRA\", \"TOCA\", \"TUTA\", \"VENTAQUEMADA\"]\n",
    "\n",
    "Gutierrez = [\"CHISCAS\", \"EL COCUY\", \"EL ESPINO\", \"GUACAMAYAS\",\n",
    "            \"GUICAN\", \"PANQUEBA\"]\n",
    "\n",
    "La_Libertad = [\"LABRANZAGRANDE\", \"PAJARITO\", \"PAYA\", \"PISBA\"]\n",
    "\n",
    "Lengupa = [\"BERBEO\", \"CAMPOHERMOSO\", \"MIRAFLORES\", \"PAEZ\", \n",
    "           \"SAN EDUARDO\", \"ZETAQUIRA\"]\n",
    "\n",
    "Neira = [\"GARAGOA\", \"CHINAVITA\", \"MACANAL\", \"PACHAVITA\", \n",
    "         \"SAN LUIS DE GACENO\", \"SANTA MARIA\"]\n",
    "\n",
    "Norte = [\"BOAVITA\", \"COVARACHIA\", \"LA UVITA\", \"SAN MATEO\", \n",
    "        \"SATIVANORTE\", \"SATIVASUR\", \"SOATA\", \"SUSACON\", \"TIPACOQUE\"]\n",
    "\n",
    "Occidente = [\"CHIQUINQUIRA\",\"BUENAVISTA\", \"CALDAS\", \"COPER\", \n",
    "            \"LA VICTORIA\", \"MARIPI\", \"MUZO\", \"OTANCHE\", \"PAUNA\",\n",
    "                         \"QUIPAMA\", \"SABOYA\", \"SAN MIGUEL DE SEMA\",\n",
    "                         \"SAN PABLO DE BORBUR\", \"TUNUNGUA\",\"PUERTO BOYACA\"]\n",
    "\n",
    "\n",
    "Occidente_sin_Chiquinquira = [\"BUENAVISTA\", \"CALDAS\", \"COPER\", \n",
    "            \"LA VICTORIA\", \"MARIPI\", \"MUZO\", \"OTANCHE\", \"PAUNA\",\n",
    "                         \"QUIPAMA\", \"SABOYA\", \"SAN MIGUEL DE SEMA\",\n",
    "                         \"SAN PABLO DE BORBUR\", \"TUNUNGUA\",\"PUERTO BOYACA\"]\n",
    "\n",
    "Oriente = [\"ALMEIDA\", \"CHOVOR\", \"GUATEQUE\", \"GUAYATA\", \"LA CAPILLA\",\n",
    "          \"SOMONDOCO\", \"SUTATENZA\", \"TENZA\"]\n",
    "\n",
    "Ricaurte = [\"VILLA DE LEYVA\", \"ARCABUCO\", \"CHITARAQUE\", \"GACHANTIVA\", \n",
    "           \"MONIQUIRA\", \"RAQUIRA\", \"SACHICA\", \"SAN JOSE DE PARE\",\n",
    "           \"SANTANA\", \"SANTA SOFIA\", \"SUTAMARCHAN\", \"TINJACA\", \"TOGUI\"]\n",
    "\n",
    "Sugamuxi_sin_Sogamoso = [\"AQUITANIA\", \"BELENCITO\", \"CUITIVA\", \n",
    "                         \"FIRAVITOBA\", \"GAMEZA\", \"IZA\", \"MONGUA\",\n",
    "                        \"MONGUI\", \"NOBSA\", \"PESCA\", \"TIBASOSA\", \n",
    "                         \"TOPAGA\", \"TOTA\"]\n",
    "\n",
    "Tundama_sin_Duitama = [\"BELEN\", \"BUSBANZA\", \"CERINZA\", \"CORRALES\", \n",
    "           \"FLORESTA\", \"PAIA\", \"SANTA ROSA DE VITERBO\", \"TUTAZA\"]\n",
    "\n",
    "\n",
    "Valderrama = [\"BETEVITA\", \"CHITA\", \"JERICO\", \"PAZ DE RIO\", \"SOCHA\",\n",
    "             \"SOCOTA\", \"TASCO\"]\n",
    "\n",
    "top5 = resumen.sort_values(\"Activo\", ascending=False).head(5).reset_index()[\"ciudad_municipio_nom\"]"
   ]
  },
  {
   "cell_type": "code",
   "execution_count": 70,
   "id": "quality-glass",
   "metadata": {},
   "outputs": [
    {
     "data": {
      "image/png": "[encoded data removed]",
      "text/plain": [
       "<Figure size 432x288 with 1 Axes>"
      ]
     },
     "metadata": {},
     "output_type": "display_data"
    }
   ],
   "source": [
    "sns.set_style(\"darkgrid\")\n",
    "\n",
    "# Extract info from selected provincia\n",
    "provincia = Marquez\n",
    "p_name = provincia[\"name\"]\n",
    "p_towns = provincia[\"towns\"]\n",
    "p_names_to_show = provincia[\"names_to_show\"].copy()\n",
    "p_names_to_show = p_names_to_show[:8]\n",
    "\n",
    "# Subset data\n",
    "q1 = \"recuperado=='Activo' or recuperado=='Fallecido'\"\n",
    "q2 = \"recuperado=='Activo'\"\n",
    "df_subset = df.query(q2)\n",
    "df_subset = df_subset[df_subset.ciudad_municipio_nom.isin(p_towns)]\n",
    "order_list = df_subset[\"ciudad_municipio_nom\"].value_counts().index\n",
    "\n",
    "#Plot data\n",
    "g = sns.countplot(data=df_subset,\n",
    "             y=\"ciudad_municipio_nom\", \n",
    "                   hue=\"recuperado\",\n",
    "                   alpha=0.9,\n",
    "                  order = order_list)\n",
    "\n",
    "#for p in ax.patches:\n",
    "        #ax.annotate('{:f}'.format(p.get_height()), (p.get_x(), p.get_height()))\n",
    "        #ax.annotate('{:d}'.format(p.get_width()), (p.get_width(),p.get_y()+0.5))\n",
    "\n",
    "# Miscellaneous\n",
    "g.set(xlabel= \"Casos Activos \\n Datos descargados el \" + download_date.strftime('%d/%m/%y %H:%M'),\n",
    "      ylabel=\"\",\n",
    "      title=p_name + \"\\n Casos de Covid19 activos al \" + download_date.strftime('%d-%b-%y'))\n",
    "      #yticklabels=p_names_to_show)\n",
    "#plt.ylabel(\"\")\n",
    "#plt.legend()\n",
    "g.set_yticklabels(p_names_to_show)\n",
    "#plt.figtext(0.5, 0.01, \"one text and next text\", ha=\"center\", fontsize=18, bbox={\"facecolor\":\"orange\", \"alpha\":0.5, \"pad\":5})\n",
    "\n",
    "# Make Sure x_ticks are ints\n",
    "old_ticks = g.get_xticks()\n",
    "floats_in_ticks = np.any(np.mod(old_ticks,2)!=0)\n",
    "if floats_in_ticks:\n",
    "    new_ticks = old_ticks.astype(int)\n",
    "    g.set_xticks(new_ticks)"
   ]
  },
  {
   "cell_type": "code",
   "execution_count": 63,
   "id": "reported-advertising",
   "metadata": {},
   "outputs": [
    {
     "name": "stdout",
     "output_type": "stream",
     "text": [
      "<class 'list'>\n",
      "\n",
      "6\n",
      "\n",
      "<class 'matplotlib.text.Text'>\n",
      "\n",
      "[Text(0.0, 0, '0'), Text(2.0, 0, '2'), Text(4.0, 0, '4'), Text(6.0, 0, '6'), Text(8.0, 0, '8'), Text(10.0, 0, '10')]\n"
     ]
    }
   ],
   "source": [
    "xx = g.get_xticklabels()\n",
    "print(type(xx), len(xx), type(xx[2]), xx, sep=\"\\n\"*2)"
   ]
  },
  {
   "cell_type": "code",
   "execution_count": 57,
   "id": "english-france",
   "metadata": {},
   "outputs": [
    {
     "name": "stdout",
     "output_type": "stream",
     "text": [
      "<class 'list'>\n",
      "\n",
      "8\n",
      "\n",
      "<class 'matplotlib.text.Text'>\n",
      "\n",
      "[Text(0, 0, 'TURMEQUE'), Text(0, 1, 'CIENEGA'), Text(0, 2, 'RAMIRIQUI'), Text(0, 3, 'TIBANA'), Text(0, 4, 'UMBITA'), Text(0, 5, 'JENESANO'), Text(0, 6, 'BOYACA'), Text(0, 7, 'NUEVO COLON')]\n"
     ]
    }
   ],
   "source": [
    "yy = g.get_yticklabels()\n",
    "print(type(yy), len(yy), type(yy[2]), yy, sep=\"\\n\"*2)"
   ]
  },
  {
   "cell_type": "code",
   "execution_count": 74,
   "id": "impressed-michael",
   "metadata": {},
   "outputs": [
    {
     "data": {
      "text/plain": [
       "'RAMIRIQUI'"
      ]
     },
     "execution_count": 74,
     "metadata": {},
     "output_type": "execute_result"
    }
   ],
   "source": [
    "yy[2].get_text()"
   ]
  },
  {
   "cell_type": "code",
   "execution_count": 61,
   "id": "personal-spencer",
   "metadata": {},
   "outputs": [
    {
     "name": "stdout",
     "output_type": "stream",
     "text": [
      "[0 1 2 3 4 5 6 7]\n"
     ]
    }
   ],
   "source": [
    "yyy = g.get_yticks()\n",
    "print(yyy)"
   ]
  },
  {
   "cell_type": "code",
   "execution_count": 62,
   "id": "amended-marble",
   "metadata": {},
   "outputs": [
    {
     "name": "stdout",
     "output_type": "stream",
     "text": [
      "Text(0, 5, 'asd')\n"
     ]
    },
    {
     "data": {
      "image/png": "[encoded data removed]",
      "text/plain": [
       "<Figure size 432x288 with 1 Axes>"
      ]
     },
     "metadata": {},
     "output_type": "display_data"
    }
   ],
   "source": [
    "a = plt.text(0,5,\"asd\")\n",
    "print(a)"
   ]
  },
  {
   "cell_type": "markdown",
   "id": "ecological-honey",
   "metadata": {},
   "source": [
    "# Time Series"
   ]
  },
  {
   "cell_type": "code",
   "execution_count": 9,
   "id": "brazilian-matthew",
   "metadata": {},
   "outputs": [
    {
     "data": {
      "text/html": [
       "<div>\n",
       "<style scoped>\n",
       "    .dataframe tbody tr th:only-of-type {\n",
       "        vertical-align: middle;\n",
       "    }\n",
       "\n",
       "    .dataframe tbody tr th {\n",
       "        vertical-align: top;\n",
       "    }\n",
       "\n",
       "    .dataframe thead th {\n",
       "        text-align: right;\n",
       "    }\n",
       "</style>\n",
       "<table border=\"1\" class=\"dataframe\">\n",
       "  <thead>\n",
       "    <tr style=\"text-align: right;\">\n",
       "      <th></th>\n",
       "      <th>id_de_caso</th>\n",
       "      <th>ciudad_municipio_nom</th>\n",
       "      <th>f_ini_sintomas</th>\n",
       "      <th>f_muerte</th>\n",
       "      <th>f_diagnostico</th>\n",
       "      <th>f_recuperacion</th>\n",
       "      <th>d_Fallecido</th>\n",
       "      <th>d_N/A</th>\n",
       "      <th>d_Recuperado</th>\n",
       "    </tr>\n",
       "  </thead>\n",
       "  <tbody>\n",
       "    <tr>\n",
       "      <th>0</th>\n",
       "      <td>445</td>\n",
       "      <td>SANTANA</td>\n",
       "      <td>2020-03-13</td>\n",
       "      <td>NaT</td>\n",
       "      <td>2020-03-25</td>\n",
       "      <td>2020-04-06</td>\n",
       "      <td>0</td>\n",
       "      <td>0</td>\n",
       "      <td>1</td>\n",
       "    </tr>\n",
       "    <tr>\n",
       "      <th>1</th>\n",
       "      <td>489</td>\n",
       "      <td>TUNJA</td>\n",
       "      <td>2020-03-22</td>\n",
       "      <td>NaT</td>\n",
       "      <td>2020-03-26</td>\n",
       "      <td>2020-04-06</td>\n",
       "      <td>0</td>\n",
       "      <td>0</td>\n",
       "      <td>1</td>\n",
       "    </tr>\n",
       "    <tr>\n",
       "      <th>2</th>\n",
       "      <td>690</td>\n",
       "      <td>OICATA</td>\n",
       "      <td>2020-03-25</td>\n",
       "      <td>NaT</td>\n",
       "      <td>2020-03-29</td>\n",
       "      <td>2020-04-11</td>\n",
       "      <td>0</td>\n",
       "      <td>0</td>\n",
       "      <td>1</td>\n",
       "    </tr>\n",
       "    <tr>\n",
       "      <th>3</th>\n",
       "      <td>703</td>\n",
       "      <td>SANTANA</td>\n",
       "      <td>2020-03-18</td>\n",
       "      <td>NaT</td>\n",
       "      <td>2020-03-30</td>\n",
       "      <td>2020-04-13</td>\n",
       "      <td>0</td>\n",
       "      <td>0</td>\n",
       "      <td>1</td>\n",
       "    </tr>\n",
       "    <tr>\n",
       "      <th>4</th>\n",
       "      <td>864</td>\n",
       "      <td>TUNJA</td>\n",
       "      <td>2020-03-22</td>\n",
       "      <td>2020-04-04</td>\n",
       "      <td>2020-03-31</td>\n",
       "      <td>NaT</td>\n",
       "      <td>1</td>\n",
       "      <td>0</td>\n",
       "      <td>0</td>\n",
       "    </tr>\n",
       "  </tbody>\n",
       "</table>\n",
       "</div>"
      ],
      "text/plain": [
       "  id_de_caso ciudad_municipio_nom f_ini_sintomas   f_muerte f_diagnostico  \\\n",
       "0        445              SANTANA     2020-03-13        NaT    2020-03-25   \n",
       "1        489                TUNJA     2020-03-22        NaT    2020-03-26   \n",
       "2        690               OICATA     2020-03-25        NaT    2020-03-29   \n",
       "3        703              SANTANA     2020-03-18        NaT    2020-03-30   \n",
       "4        864                TUNJA     2020-03-22 2020-04-04    2020-03-31   \n",
       "\n",
       "  f_recuperacion  d_Fallecido  d_N/A  d_Recuperado  \n",
       "0     2020-04-06            0      0             1  \n",
       "1     2020-04-06            0      0             1  \n",
       "2     2020-04-11            0      0             1  \n",
       "3     2020-04-13            0      0             1  \n",
       "4            NaT            1      0             0  "
      ]
     },
     "execution_count": 9,
     "metadata": {},
     "output_type": "execute_result"
    }
   ],
   "source": [
    "# Generate dummi variables to easily create the time series\n",
    "d_recuperado = pd.get_dummies(df[\"recuperado\"], prefix='d')\n",
    "d_df = pd.concat([df, d_recuperado], axis=1) \n",
    "d_df = d_df.drop(columns=[\"recuperado\",\"d_Activo\"])\n",
    "d_df.head()"
   ]
  },
  {
   "cell_type": "code",
   "execution_count": 10,
   "id": "agricultural-fairy",
   "metadata": {},
   "outputs": [],
   "source": [
    "# Create time series for active, recovered, passaway\n",
    "# Each time series requires to be done independently\n",
    "\n",
    "# Create acumulate time series using pivot tables\n",
    "new_cases = d_df.pivot_table(index=\"f_ini_sintomas\", \n",
    "                                  values=\"id_de_caso\", \n",
    "                                  columns=\"ciudad_municipio_nom\", \n",
    "                                  aggfunc=np.count_nonzero)\n",
    "cum_new_cases = new_cases.sort_index(ascending=True).cumsum() \n",
    "\n",
    "new_rec = d_df.pivot_table(index=\"f_recuperacion\",\n",
    "                                values=\"d_Recuperado\",\n",
    "                                columns=\"ciudad_municipio_nom\",\n",
    "                                aggfunc=np.count_nonzero)\n",
    "cum_rec = new_rec.sort_index(ascending=True).cumsum()\n",
    "\n",
    "new_pa = d_df.pivot_table(index=\"f_muerte\",\n",
    "                              values=\"d_Fallecido\",\n",
    "                              columns=\"ciudad_municipio_nom\",\n",
    "                              aggfunc=np.count_nonzero)\n",
    "cum_pa = new_pa.sort_index(ascending=True).cumsum()"
   ]
  },
  {
   "cell_type": "code",
   "execution_count": 11,
   "id": "devoted-description",
   "metadata": {},
   "outputs": [
    {
     "name": "stdout",
     "output_type": "stream",
     "text": [
      "2020-03-13 00:00:00\n",
      "2021-06-10 00:00:00\n"
     ]
    }
   ],
   "source": [
    "# Resample all 3 time series in the same index so they can be summed\n",
    "d_min = min([d_df.f_ini_sintomas.min(), d_df.f_recuperacion.min()])\n",
    "d_max = max([d_df.f_ini_sintomas.max(), d_df.f_recuperacion.max()])\n",
    "t_index = pd.date_range(start=d_min, end=d_max, freq='D')\n",
    "print(d_min, d_max, sep=\"\\n\")\n",
    "\n",
    "# Use pad() to fill values to the front and fillna(0) to fill NaN with 0\n",
    "r_cum_new_cases = cum_new_cases.reindex(t_index).pad().fillna(0)\n",
    "r_cum_rec = cum_rec.reindex(t_index).pad().fillna(0)\n",
    "r_cum_pa = cum_pa.reindex(t_index).pad().fillna(0)\n",
    "\n",
    "# Compute active cases: cumulative new cases - cummulative recovered - cummulative p.a.\n",
    "active_cases = r_cum_new_cases - r_cum_rec - r_cum_pa"
   ]
  },
  {
   "cell_type": "markdown",
   "id": "billion-owner",
   "metadata": {},
   "source": [
    "## Provincia Marquez"
   ]
  },
  {
   "cell_type": "code",
   "execution_count": 35,
   "id": "human-split",
   "metadata": {},
   "outputs": [
    {
     "data": {
      "text/plain": [
       "[<matplotlib.axis.YTick at 0x7f74c6fb1310>,\n",
       " <matplotlib.axis.YTick at 0x7f74c6fb0e80>,\n",
       " <matplotlib.axis.YTick at 0x7f74c6fb3a90>,\n",
       " <matplotlib.axis.YTick at 0x7f74c6fa84f0>,\n",
       " <matplotlib.axis.YTick at 0x7f74c6f849d0>,\n",
       " <matplotlib.axis.YTick at 0x7f74c6fa7220>,\n",
       " <matplotlib.axis.YTick at 0x7f74c7edeac0>,\n",
       " <matplotlib.axis.YTick at 0x7f74c7edee20>,\n",
       " <matplotlib.axis.YTick at 0x7f74c7ecb370>,\n",
       " <matplotlib.axis.YTick at 0x7f74c7ecb880>]"
      ]
     },
     "execution_count": 35,
     "metadata": {},
     "output_type": "execute_result"
    },
    {
     "data": {
      "image/png": "[encoded data removed]",
      "text/plain": [
       "<Figure size 1008x720 with 1 Axes>"
      ]
     },
     "metadata": {},
     "output_type": "display_data"
    }
   ],
   "source": [
    "sns.set_style(\"darkgrid\")\n",
    "towns = Marquez[\"towns\"]\n",
    "g = sns.relplot(data=active_cases.loc[active_cases.index > \"2021-06-06\",towns],\n",
    "           kind='line',\n",
    "           dashes=False)\n",
    "g.fig.set_size_inches(14,10)\n",
    "#plt.grid()\n",
    "plt.title(\"Casos Activos\")\n",
    "plt.grid('both')\n",
    "old_ticks = g.ax.get_yticks()\n",
    "new_ticks = old_ticks.astype(int)\n",
    "g.ax.set_yticks(new_ticks)"
   ]
  },
  {
   "cell_type": "code",
   "execution_count": 34,
   "id": "modular-chile",
   "metadata": {},
   "outputs": [
    {
     "data": {
      "text/plain": [
       "[<matplotlib.axis.YTick at 0x7f74c7a00a60>,\n",
       " <matplotlib.axis.YTick at 0x7f74c7a00cd0>,\n",
       " <matplotlib.axis.YTick at 0x7f74c7a7a6d0>,\n",
       " <matplotlib.axis.YTick at 0x7f74c7a14250>,\n",
       " <matplotlib.axis.YTick at 0x7f74c7afdbe0>,\n",
       " <matplotlib.axis.YTick at 0x7f74c7a140a0>,\n",
       " <matplotlib.axis.YTick at 0x7f74c7a0ed60>,\n",
       " <matplotlib.axis.YTick at 0x7f74c7992f70>,\n",
       " <matplotlib.axis.YTick at 0x7f74c79937c0>,\n",
       " <matplotlib.axis.YTick at 0x7f74c79962b0>]"
      ]
     },
     "execution_count": 34,
     "metadata": {},
     "output_type": "execute_result"
    }
   ],
   "source": []
  },
  {
   "cell_type": "code",
   "execution_count": 33,
   "id": "lesbian-bridges",
   "metadata": {},
   "outputs": [
    {
     "name": "stdout",
     "output_type": "stream",
     "text": [
      "[ 0.   2.5  5.   7.5 10.  12.5 15.  17.5 20.  22.5]\n",
      "\n",
      "[ 0  2  5  7 10 12 15 17 20 22]\n"
     ]
    }
   ],
   "source": [
    "\n",
    "print(old_ticks, new_ticks, sep=\"\\n\\n\")"
   ]
  },
  {
   "cell_type": "markdown",
   "id": "wrapped-boating",
   "metadata": {},
   "source": [
    "# To Fix\n",
    "* Last item of time series and reported active cases do not match by a small count\n",
    "* Add 'tildes' to owns names\n",
    "* Tag by provincia so you can group the graphics\n",
    "* Force axis to be integers"
   ]
  }
 ],
 "metadata": {
  "kernelspec": {
   "display_name": "Python 3",
   "language": "python",
   "name": "python3"
  },
  "language_info": {
   "codemirror_mode": {
    "name": "ipython",
    "version": 3
   },
   "file_extension": ".py",
   "mimetype": "text/x-python",
   "name": "python",
   "nbconvert_exporter": "python",
   "pygments_lexer": "ipython3",
   "version": "3.8.5"
  }
 },
 "nbformat": 4,
 "nbformat_minor": 5
}
